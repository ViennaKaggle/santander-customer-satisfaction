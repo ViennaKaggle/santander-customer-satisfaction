{
 "cells": [
  {
   "cell_type": "code",
   "execution_count": 7,
   "metadata": {
    "collapsed": false,
    "scrolled": true
   },
   "outputs": [],
   "source": [
    "%matplotlib inline\n",
    "import matplotlib.pyplot as plt\n",
    "import numpy as np\n",
    "\n",
    "import utils\n",
    "import skutils\n",
    "import pandas as pd\n",
    "\n",
    "TRAIN_DATA = \"../../data/train.csv\"\n",
    "TEST_DATA = \"../../data/test.csv\"\n",
    "\n",
    "# Load the training data\n",
    "train = pd.read_csv(TRAIN_DATA)\n",
    "\n",
    "# Load the testing data\n",
    "test = pd.read_csv(TEST_DATA)"
   ]
  },
  {
   "cell_type": "code",
   "execution_count": 2,
   "metadata": {
    "collapsed": true,
    "scrolled": true
   },
   "outputs": [],
   "source": [
    "# Get importance\n",
    "importances = skutils.feature_importance(train.drop(['ID', 'TARGET'], axis=1), train['TARGET'])\n",
    "\n",
    "# Get uniques\n",
    "uniques = train.apply(lambda x: len(x.unique()))\n",
    "\n",
    "def transform(data, threshold_unimportant=0.0000001):\n",
    "    \n",
    "    cols_emtpy = list(uniques[uniques == 1].index.values)\n",
    "    \n",
    "    # We have to remove the correlated ones by hand\n",
    "    # because there can be multiple correlations with one column\n",
    "    cols_correlated = [\n",
    "        'ind_var1', 'ind_var1_0',\n",
    "        'ind_var5',\n",
    "        'ind_var6', 'ind_var6_0', 'num_var6',\n",
    "        'ind_var8', 'ind_var8_0',\n",
    "        'ind_var12',\n",
    "        'ind_var13_corto', 'ind_var13_corto_0', 'ind_var13_medio', 'ind_var13_medio_0',\n",
    "        'ind_var18', 'ind_var18_0', 'num_var18', 'num_var18_0',\n",
    "        'ind_var20', 'ind_var20_0',\n",
    "        'ind_var29', 'ind_var29_0',\n",
    "        'ind_var24', 'ind_var24_0',\n",
    "        'ind_var25_0', 'num_var25_0',\n",
    "        'ind_var26_0', 'num_var26_0',\n",
    "        'ind_var32_0', 'num_var32_0',\n",
    "        'ind_var34', 'ind_var34_0', 'num_var34', 'num_var34_0',\n",
    "        'ind_var37_0', 'num_var37_0',\n",
    "        'ind_var39',\n",
    "        'ind_var40', 'num_var40',\n",
    "        'ind_var44',\n",
    "        'num_var29_0',\n",
    "        'num_var13_medio', 'num_var13_medio_0',\n",
    "        'num_var7_emit_ult1',\n",
    "        'num_var39',\n",
    "        'num_var40_0',\n",
    "        'num_var44_0',\n",
    "        'saldo_var6',\n",
    "        'saldo_var18',\n",
    "        'saldo_var13_medio',\n",
    "        'saldo_medio_var17_ult3',\n",
    "        'saldo_medio_var33_ult1',\n",
    "        'delta_imp_aport_var13_1y3', 'delta_imp_reemb_var13_1y3', 'delta_num_reemb_var13_1y3',\n",
    "        'delta_imp_aport_var17_1y3', 'delta_imp_reemb_var17_1y3', 'delta_num_trasp_var17_in_1y3', 'delta_num_trasp_var17_out_1y3',\n",
    "        'delta_imp_aport_var33_1y3', 'delta_imp_reemb_var33_1y3', 'delta_num_reemb_var33_1y3', 'delta_num_trasp_var33_out_1y3',\n",
    "        'delta_imp_compra_var44_1y3', 'delta_imp_venta_var44_1y3',\n",
    "        'delta_imp_trasp_var17_in_1y3', 'delta_imp_trasp_var17_out_1y3',\n",
    "        'delta_imp_trasp_var33_in_1y3', 'delta_imp_trasp_var33_out_1y3',\n",
    "        'imp_reemb_var17_hace3',\n",
    "        'imp_reemb_var33_ult1', 'imp_trasp_var33_out_ult1',\n",
    "        'num_med_var45_ult3',\n",
    "        'imp_op_var39_efect_ult1',\n",
    "        'imp_op_var39_efect_ult3',\n",
    "        'imp_op_var39_ult1',\n",
    "        'imp_amort_var18_ult1',\n",
    "        'saldo_medio_var17_hace3', 'saldo_medio_var17_ult1',\n",
    "        'saldo_medio_var13_medio_ult3',\n",
    "    ]\n",
    "    \n",
    "    cols_irrelevant = list(importances[importances.importance < threshold_unimportant].column.values)\n",
    "    \n",
    "    # Extract the ids\n",
    "    ids = data['ID']\n",
    "    \n",
    "    # Extract the data\n",
    "    X = data.drop(['ID'] + cols_emtpy + cols_correlated + cols_irrelevant,  axis=1)\n",
    "    if 'TARGET' in data.columns:\n",
    "        X.drop('TARGET', axis=1, inplace=True)\n",
    "\n",
    "    # Extract the labels\n",
    "    y = data['TARGET'] if 'TARGET' in data.columns else None\n",
    "    \n",
    "    return ids, X, y"
   ]
  },
  {
   "cell_type": "markdown",
   "metadata": {},
   "source": [
    "# Create Test Dataset"
   ]
  },
  {
   "cell_type": "code",
   "execution_count": 3,
   "metadata": {
    "collapsed": false
   },
   "outputs": [],
   "source": [
    "from sklearn.cross_validation import StratifiedShuffleSplit\n",
    "\n",
    "# Transform the training data\n",
    "Ids_train, X, y = transform(train)\n",
    "\n",
    "sss = StratifiedShuffleSplit(y, random_state=2, n_iter=30, test_size=0.15)\n",
    "\n",
    "for train_index, test_index in sss:\n",
    "    X_train, X_test = X.iloc[train_index], X.iloc[test_index]\n",
    "    y_train, y_test = y[train_index], y[test_index]"
   ]
  },
  {
   "cell_type": "markdown",
   "metadata": {},
   "source": [
    "# Create a XGB Classifier"
   ]
  },
  {
   "cell_type": "code",
   "execution_count": 8,
   "metadata": {
    "collapsed": false
   },
   "outputs": [
    {
     "data": {
      "text/plain": [
       "[<matplotlib.lines.Line2D at 0x7f0cf8549518>]"
      ]
     },
     "execution_count": 8,
     "metadata": {},
     "output_type": "execute_result"
    },
    {
     "data": {
      "image/png": "[encoded data removed]",
      "text/plain": [
       "<matplotlib.figure.Figure at 0x7f0cf8597048>"
      ]
     },
     "metadata": {},
     "output_type": "display_data"
    }
   ],
   "source": [
    "# Learning Rate\n",
    "learning_rate = lambda _steps: 0.01 / np.log1p(np.linspace(0.1, 0.5, _steps))\n",
    "steps = 100\n",
    "fig = plt.figure()\n",
    "plt.plot(np.linspace(0, 1, steps), learning_rate(steps))"
   ]
  },
  {
   "cell_type": "code",
   "execution_count": 22,
   "metadata": {
    "collapsed": false
   },
   "outputs": [],
   "source": [
    "from sklearn.pipeline import Pipeline\n",
    "import xgboost as xgb\n",
    "import numpy as np\n",
    "\n",
    "params = {\n",
    "    'max_depth': 3,\n",
    "    'n_estimators': 250,\n",
    "    'learning_rate': 0.1,\n",
    "    'gamma': 0.1,\n",
    "    'subsample': 0.9,\n",
    "    'colsample_bytree': 0.9,\n",
    "    'seed': 42,\n",
    "}\n",
    "\n",
    "fit_params = {\n",
    "    'early_stopping_rounds': 20,\n",
    "    'eval_metric': 'auc',\n",
    "    'eval_set': [(X_test.values, y_test.values)],\n",
    "    'learning_rates': lambda i, n: learning_rate(n)[i],\n",
    "}\n",
    "\n",
    "# eval_set: set that is used for watching the training performance\n",
    "\n",
    "# learing_rates: sets the eta parameter for each boost round\n",
    "# https://github.com/dmlc/xgboost/blob/master/doc/parameter.md#parameters-for-tree-booster\n",
    "# lambda i, n: np.linspace(0.4, 0.2, n)[i] # Linear learning rate decay\n",
    "\n",
    "clf = xgb.XGBClassifier(**params)"
   ]
  },
  {
   "cell_type": "markdown",
   "metadata": {},
   "source": [
    "# Cross Validate XGB"
   ]
  },
  {
   "cell_type": "code",
   "execution_count": 23,
   "metadata": {
    "collapsed": false
   },
   "outputs": [
    {
     "name": "stdout",
     "output_type": "stream",
     "text": [
      "Cross validation test-auc-mean score 0.83415550 (+- 0.00727635)\n",
      "Cross validation train-auc-mean score 0.85977475 (+- 0.00219465)\n"
     ]
    }
   ],
   "source": [
    "from sklearn.metrics import make_scorer\n",
    "from sklearn.metrics import roc_auc_score\n",
    "\n",
    "nrounds = params['n_estimators']\n",
    "folds = skutils.folds(y_train, n_folds=4, stratified=True, random_state=params['seed'])\n",
    "\n",
    "# Needs latest XGBoost from chaosmail\n",
    "# https://github.com/chaosmail/xgboost\n",
    "# https://github.com/dmlc/xgboost/blob/master/doc/build.md\n",
    "scores = xgb.cv(params, xgb.DMatrix(X_train, y_train), nrounds, metrics=['auc'], maximize=True, \n",
    "                early_stopping_rounds=fit_params['early_stopping_rounds'], folds=folds)\n",
    "\n",
    "print(\"Cross validation test-auc-mean score %.8f (+- %.8f)\" \n",
    "      % (scores['test-auc-mean'].ix[len(scores) - 1], scores['test-auc-std'].ix[len(scores) - 1]))\n",
    "\n",
    "print(\"Cross validation train-auc-mean score %.8f (+- %.8f)\"\n",
    "      % (scores['train-auc-mean'].ix[len(scores) - 1], scores['train-auc-std'].ix[len(scores) - 1]))"
   ]
  },
  {
   "cell_type": "code",
   "execution_count": 24,
   "metadata": {
    "collapsed": false
   },
   "outputs": [
    {
     "data": {
      "text/plain": [
       "<matplotlib.axes._subplots.AxesSubplot at 0x7f0cf746a588>"
      ]
     },
     "execution_count": 24,
     "metadata": {},
     "output_type": "execute_result"
    },
    {
     "name": "stderr",
     "output_type": "stream",
     "text": [
      "/home/ckoerner/.local/lib/python3.4/site-packages/matplotlib/collections.py:590: FutureWarning: elementwise comparison failed; returning scalar instead, but in the future will perform elementwise comparison\n",
      "  if self._edgecolors == str('face'):\n"
     ]
    },
    {
     "data": {
      "image/png": "[encoded data removed]",
      "text/plain": [
       "<matplotlib.figure.Figure at 0x7f0cf740dc18>"
      ]
     },
     "metadata": {},
     "output_type": "display_data"
    }
   ],
   "source": [
    "import matplotlib.pyplot as plt\n",
    "import matplotlib.cm as cm\n",
    "\n",
    "fig, ax = plt.subplots(figsize=(15, 5), dpi=120)\n",
    "scores[['test-auc-mean', 'test-auc-std']].plot(yerr='test-auc-std', ax=ax)\n",
    "scores[['train-auc-mean', 'train-auc-std']].plot(yerr='train-auc-std', ax=ax)"
   ]
  },
  {
   "cell_type": "markdown",
   "metadata": {},
   "source": [
    "# Compute Private Score"
   ]
  },
  {
   "cell_type": "code",
   "execution_count": 12,
   "metadata": {
    "collapsed": false,
    "scrolled": true
   },
   "outputs": [
    {
     "name": "stdout",
     "output_type": "stream",
     "text": [
      "Will train until validation_0 error hasn't decreased in 20 rounds.\n",
      "\n",
      "[0]\tvalidation_0-auc:0.799755\n",
      "\n",
      "[1]\tvalidation_0-auc:0.805065\n",
      "\n",
      "[2]\tvalidation_0-auc:0.807074\n",
      "\n",
      "[3]\tvalidation_0-auc:0.808071\n",
      "\n",
      "[4]\tvalidation_0-auc:0.807301\n",
      "\n",
      "[5]\tvalidation_0-auc:0.808640\n",
      "\n",
      "[6]\tvalidation_0-auc:0.808408\n",
      "\n",
      "[7]\tvalidation_0-auc:0.809981\n",
      "\n",
      "[8]\tvalidation_0-auc:0.809794\n",
      "\n",
      "[9]\tvalidation_0-auc:0.809892\n",
      "\n",
      "[10]\tvalidation_0-auc:0.810689\n",
      "\n",
      "[11]\tvalidation_0-auc:0.811805\n",
      "\n",
      "[12]\tvalidation_0-auc:0.814073\n",
      "\n",
      "[13]\tvalidation_0-auc:0.812410\n",
      "\n",
      "[14]\tvalidation_0-auc:0.813720\n",
      "\n",
      "[15]\tvalidation_0-auc:0.813598\n",
      "\n",
      "[16]\tvalidation_0-auc:0.813892\n",
      "\n",
      "[17]\tvalidation_0-auc:0.814206\n",
      "\n",
      "[18]\tvalidation_0-auc:0.814792\n",
      "\n",
      "[19]\tvalidation_0-auc:0.814554\n",
      "\n",
      "[20]\tvalidation_0-auc:0.814765\n",
      "\n",
      "[21]\tvalidation_0-auc:0.815012\n",
      "\n",
      "[22]\tvalidation_0-auc:0.814622\n",
      "\n",
      "[23]\tvalidation_0-auc:0.814583\n",
      "\n",
      "[24]\tvalidation_0-auc:0.814333\n",
      "\n",
      "[25]\tvalidation_0-auc:0.814830\n",
      "\n",
      "[26]\tvalidation_0-auc:0.814762\n",
      "\n",
      "[27]\tvalidation_0-auc:0.814493\n",
      "\n",
      "[28]\tvalidation_0-auc:0.814964\n",
      "\n",
      "[29]\tvalidation_0-auc:0.815099\n",
      "\n",
      "[30]\tvalidation_0-auc:0.815214\n",
      "\n",
      "[31]\tvalidation_0-auc:0.815796\n",
      "\n",
      "[32]\tvalidation_0-auc:0.815954\n",
      "\n",
      "[33]\tvalidation_0-auc:0.818588\n",
      "\n",
      "[34]\tvalidation_0-auc:0.818652\n",
      "\n",
      "[35]\tvalidation_0-auc:0.818629\n",
      "\n",
      "[36]\tvalidation_0-auc:0.818749\n",
      "\n",
      "[37]\tvalidation_0-auc:0.819118\n",
      "\n",
      "[38]\tvalidation_0-auc:0.819281\n",
      "\n",
      "[39]\tvalidation_0-auc:0.819710\n",
      "\n",
      "[40]\tvalidation_0-auc:0.819392\n",
      "\n",
      "[41]\tvalidation_0-auc:0.819520\n",
      "\n",
      "[42]\tvalidation_0-auc:0.819573\n",
      "\n",
      "[43]\tvalidation_0-auc:0.819737\n",
      "\n",
      "[44]\tvalidation_0-auc:0.819803\n",
      "\n",
      "[45]\tvalidation_0-auc:0.820102\n",
      "\n",
      "[46]\tvalidation_0-auc:0.820362\n",
      "\n",
      "[47]\tvalidation_0-auc:0.820232\n",
      "\n",
      "[48]\tvalidation_0-auc:0.820569\n",
      "\n",
      "[49]\tvalidation_0-auc:0.820465\n",
      "\n",
      "[50]\tvalidation_0-auc:0.821021\n",
      "\n",
      "[51]\tvalidation_0-auc:0.820880\n",
      "\n",
      "[52]\tvalidation_0-auc:0.820837\n",
      "\n",
      "[53]\tvalidation_0-auc:0.821343\n",
      "\n",
      "[54]\tvalidation_0-auc:0.821471\n",
      "\n",
      "[55]\tvalidation_0-auc:0.821499\n",
      "\n",
      "[56]\tvalidation_0-auc:0.821757\n",
      "\n",
      "[57]\tvalidation_0-auc:0.821982\n",
      "\n",
      "[58]\tvalidation_0-auc:0.822228\n",
      "\n",
      "[59]\tvalidation_0-auc:0.822423\n",
      "\n",
      "[60]\tvalidation_0-auc:0.822663\n",
      "\n",
      "[61]\tvalidation_0-auc:0.822931\n",
      "\n",
      "[62]\tvalidation_0-auc:0.823233\n",
      "\n",
      "[63]\tvalidation_0-auc:0.823288\n",
      "\n",
      "[64]\tvalidation_0-auc:0.823735\n",
      "\n",
      "[65]\tvalidation_0-auc:0.823888\n",
      "\n",
      "[66]\tvalidation_0-auc:0.824131\n",
      "\n",
      "[67]\tvalidation_0-auc:0.824485\n",
      "\n",
      "[68]\tvalidation_0-auc:0.824547\n",
      "\n",
      "[69]\tvalidation_0-auc:0.824537\n",
      "\n",
      "[70]\tvalidation_0-auc:0.824786\n",
      "\n",
      "[71]\tvalidation_0-auc:0.824880\n",
      "\n",
      "[72]\tvalidation_0-auc:0.825243\n",
      "\n",
      "[73]\tvalidation_0-auc:0.825346\n",
      "\n",
      "[74]\tvalidation_0-auc:0.825610\n",
      "\n",
      "[75]\tvalidation_0-auc:0.825963\n",
      "\n",
      "[76]\tvalidation_0-auc:0.826151\n",
      "\n",
      "[77]\tvalidation_0-auc:0.826091\n",
      "\n",
      "[78]\tvalidation_0-auc:0.825861\n",
      "\n",
      "[79]\tvalidation_0-auc:0.826012\n",
      "\n",
      "[80]\tvalidation_0-auc:0.826462\n",
      "\n",
      "[81]\tvalidation_0-auc:0.826602\n",
      "\n",
      "[82]\tvalidation_0-auc:0.826854\n",
      "\n",
      "[83]\tvalidation_0-auc:0.826476\n",
      "\n",
      "[84]\tvalidation_0-auc:0.826347\n",
      "\n",
      "[85]\tvalidation_0-auc:0.826555\n",
      "\n",
      "[86]\tvalidation_0-auc:0.826408\n",
      "\n",
      "[87]\tvalidation_0-auc:0.826631\n",
      "\n",
      "[88]\tvalidation_0-auc:0.826497\n",
      "\n",
      "[89]\tvalidation_0-auc:0.826611\n",
      "\n",
      "[90]\tvalidation_0-auc:0.826448\n",
      "\n",
      "[91]\tvalidation_0-auc:0.826502\n",
      "\n",
      "[92]\tvalidation_0-auc:0.826528\n",
      "\n",
      "[93]\tvalidation_0-auc:0.826518\n",
      "\n",
      "[94]\tvalidation_0-auc:0.826518\n",
      "\n",
      "[95]\tvalidation_0-auc:0.826452\n",
      "\n",
      "[96]\tvalidation_0-auc:0.826557\n",
      "\n",
      "[97]\tvalidation_0-auc:0.826515\n",
      "\n",
      "[98]\tvalidation_0-auc:0.826427\n",
      "\n",
      "[99]\tvalidation_0-auc:0.826504\n",
      "\n",
      "Private Score 0.82660236\n"
     ]
    }
   ],
   "source": [
    "from sklearn.metrics import roc_auc_score\n",
    "\n",
    "clf.fit(X_train.values, y_train.values, **fit_params)\n",
    "\n",
    "score = roc_auc_score(y_test.values, clf.predict_proba(X_test.values, ntree_limit=clf.best_iteration)[:,1])\n",
    "\n",
    "print(\"Private Score %.8f\" % score)"
   ]
  },
  {
   "cell_type": "markdown",
   "metadata": {},
   "source": [
    "# Make Submission"
   ]
  },
  {
   "cell_type": "code",
   "execution_count": null,
   "metadata": {
    "collapsed": false,
    "scrolled": true
   },
   "outputs": [],
   "source": [
    "Ids_test_, X_test_, y_test_ = transform(test)\n",
    "\n",
    "clf.fit(X.values, y.values, **fit_params)\n",
    "\n",
    "y_pred = clf.predict_proba(X_test_.values, ntree_limit=clf.best_iteration)\n",
    "\n",
    "submission = pd.DataFrame({\"ID\":Ids_test_, \"TARGET\":y_pred[:,1]})\n",
    "submission.to_csv(\"submission_%s.csv\" % utils.timestamp(), index=False)\n",
    "\n",
    "# Public Score: 0.837660"
   ]
  }
 ],
 "metadata": {
  "kernelspec": {
   "display_name": "Python 3",
   "language": "python",
   "name": "python3"
  },
  "language_info": {
   "codemirror_mode": {
    "name": "ipython",
    "version": 3
   },
   "file_extension": ".py",
   "mimetype": "text/x-python",
   "name": "python",
   "nbconvert_exporter": "python",
   "pygments_lexer": "ipython3",
   "version": "3.4.3"
  }
 },
 "nbformat": 4,
 "nbformat_minor": 0
}
