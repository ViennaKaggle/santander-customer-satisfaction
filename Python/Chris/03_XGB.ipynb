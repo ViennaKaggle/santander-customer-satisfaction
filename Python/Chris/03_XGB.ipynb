{
 "cells": [
  {
   "cell_type": "code",
   "execution_count": 29,
   "metadata": {
    "collapsed": false,
    "scrolled": true
   },
   "outputs": [],
   "source": [
    "%matplotlib inline\n",
    "import utils\n",
    "import skutils\n",
    "import pandas as pd\n",
    "import logging\n",
    "\n",
    "logging.basicConfig(level=logging.DEBUG)\n",
    "\n",
    "TRAIN_DATA = \"../../data/train.csv\"\n",
    "TEST_DATA = \"../../data/test.csv\"\n",
    "\n",
    "# Load the training data\n",
    "train = pd.read_csv(TRAIN_DATA)\n",
    "\n",
    "# Load the testing data\n",
    "test = pd.read_csv(TEST_DATA)"
   ]
  },
  {
   "cell_type": "code",
   "execution_count": 30,
   "metadata": {
    "collapsed": true,
    "scrolled": true
   },
   "outputs": [],
   "source": [
    "def transform(data):\n",
    "    \n",
    "    cols_emtpy = [\n",
    "        'ind_var2', 'ind_var2_0',\n",
    "        'saldo_var27', 'num_var27', 'ind_var27', 'num_var27_0', 'ind_var27_0',\n",
    "        'saldo_var28', 'num_var28', 'ind_var28', 'num_var28_0', 'ind_var28_0',\n",
    "        'saldo_var41', 'num_var41', 'ind_var41',\n",
    "        'saldo_var46', 'num_var46', 'ind_var46', 'ind_var46_0', 'num_var46_0',\n",
    "        'imp_amort_var18_hace3',\n",
    "        'imp_amort_var34_hace3',\n",
    "        'imp_reemb_var13_hace3', 'num_reemb_var13_hace3',\n",
    "        'imp_reemb_var33_hace3', 'num_reemb_var33_hace3',\n",
    "        'num_trasp_var33_out_hace3', 'imp_trasp_var33_out_hace3',\n",
    "        'imp_trasp_var17_out_hace3', 'num_trasp_var17_out_hace3',\n",
    "        'num_var2_0_ult1', 'num_var2_ult1',\n",
    "        'saldo_var2_ult1',\n",
    "        'saldo_medio_var13_medio_hace3',\n",
    "    ]\n",
    "    \n",
    "    cols_correlated = [\n",
    "        'ind_var1', 'ind_var1_0',\n",
    "        'ind_var5',\n",
    "        'ind_var6', 'ind_var6_0', 'num_var6',\n",
    "        'ind_var8', 'ind_var8_0',\n",
    "        'ind_var12',\n",
    "        'ind_var13_corto', 'ind_var13_corto_0', 'ind_var13_medio', 'ind_var13_medio_0',\n",
    "        'ind_var18', 'ind_var18_0', 'num_var18', 'num_var18_0',\n",
    "        'ind_var20', 'ind_var20_0',\n",
    "        'ind_var29', 'ind_var29_0',\n",
    "        'ind_var24', 'ind_var24_0',\n",
    "        'ind_var25_0', 'num_var25_0',\n",
    "        'ind_var26_0', 'num_var26_0',\n",
    "        'ind_var32_0', 'num_var32_0',\n",
    "        'ind_var34', 'ind_var34_0', 'num_var34', 'num_var34_0',\n",
    "        'ind_var37_0', 'num_var37_0',\n",
    "        'ind_var39',\n",
    "        'ind_var40', 'num_var40',\n",
    "        'ind_var44',\n",
    "        'num_var29_0',\n",
    "        'num_var13_medio', 'num_var13_medio_0',\n",
    "        'num_var7_emit_ult1',\n",
    "        'num_var39',\n",
    "        'num_var40_0',\n",
    "        'num_var44_0',\n",
    "        'saldo_var6',\n",
    "        'saldo_var18',\n",
    "        'saldo_var13_medio',\n",
    "        'saldo_medio_var17_ult3',\n",
    "        'saldo_medio_var33_ult1',\n",
    "        'delta_imp_aport_var13_1y3', 'delta_imp_reemb_var13_1y3', 'delta_num_reemb_var13_1y3',\n",
    "        'delta_imp_aport_var17_1y3', 'delta_imp_reemb_var17_1y3', 'delta_num_trasp_var17_in_1y3', 'delta_num_trasp_var17_out_1y3',\n",
    "        'delta_imp_aport_var33_1y3', 'delta_imp_reemb_var33_1y3', 'delta_num_reemb_var33_1y3', 'delta_num_trasp_var33_out_1y3',\n",
    "        'delta_imp_compra_var44_1y3', 'delta_imp_venta_var44_1y3',\n",
    "        'delta_imp_trasp_var17_in_1y3', 'delta_imp_trasp_var17_out_1y3',\n",
    "        'delta_imp_trasp_var33_in_1y3', 'delta_imp_trasp_var33_out_1y3',\n",
    "        'imp_reemb_var17_hace3',\n",
    "        'imp_reemb_var33_ult1', 'imp_trasp_var33_out_ult1',\n",
    "        'num_med_var45_ult3',\n",
    "        'imp_op_var39_efect_ult1',\n",
    "        'imp_op_var39_efect_ult3',\n",
    "        'imp_op_var39_ult1',\n",
    "        'imp_amort_var18_ult1',\n",
    "        'saldo_medio_var17_hace3', 'saldo_medio_var17_ult1',\n",
    "        'saldo_medio_var13_medio_ult3',\n",
    "    ]\n",
    "    \n",
    "    cols_irrelevant = [\n",
    "        'ind_var7_emit_ult1',\n",
    "        'num_trasp_var17_in_ult1',\n",
    "        'imp_venta_var44_hace3',\n",
    "        'imp_aport_var17_hace3',\n",
    "        'num_var6_0',\n",
    "        'num_venta_var44_hace3',\n",
    "        'saldo_medio_var33_ult3',\n",
    "        'imp_trasp_var17_in_ult1',\n",
    "        'imp_trasp_var33_in_ult1',\n",
    "        'num_trasp_var17_out_ult1',\n",
    "        'num_trasp_var33_out_ult1',\n",
    "        'num_aport_var17_hace3',\n",
    "        'imp_trasp_var17_out_ult1',\n",
    "        'num_aport_var33_ult1',\n",
    "        'num_op_var40_hace3',\n",
    "        'imp_var7_emit_ult1',\n",
    "        'saldo_medio_var29_ult3',\n",
    "        'num_aport_var33_hace3',\n",
    "        'num_var29',\n",
    "        'num_meses_var29_ult3',\n",
    "        'imp_aport_var33_hace3',\n",
    "        'saldo_var34',\n",
    "        'saldo_medio_var29_ult1',\n",
    "        'saldo_medio_var33_hace3',\n",
    "        'saldo_medio_var29_hace2',\n",
    "        'saldo_medio_var13_medio_ult1',\n",
    "        'delta_num_trasp_var33_in_1y3',\n",
    "        'saldo_var29',\n",
    "        'num_trasp_var33_in_ult1',\n",
    "        'num_trasp_var33_in_hace3',\n",
    "        'saldo_var20',\n",
    "        'saldo_medio_var29_hace3',\n",
    "        'imp_trasp_var33_in_hace3',\n",
    "        'num_reemb_var17_hace3',\n",
    "        'num_meses_var13_medio_ult3',\n",
    "        'imp_aport_var33_ult1',\n",
    "        'delta_imp_amort_var34_1y3',\n",
    "        'imp_trasp_var17_in_hace3',\n",
    "        'imp_amort_var34_ult1',\n",
    "        'delta_imp_amort_var18_1y3',\n",
    "        'num_reemb_var33_ult1',\n",
    "        'num_trasp_var17_in_hace3',\n",
    "        'saldo_medio_var13_medio_hace2',\n",
    "        'ind_var10cte_ult1',\n",
    "        'num_var5_0',\n",
    "        'ind_var9_ult1',\n",
    "        'ind_var10_ult1',\n",
    "        'ind_var9_cte_ult1',\n",
    "        'saldo_medio_var8_ult3',\n",
    "        'num_meses_var13_corto_ult3',\n",
    "        'saldo_var8',\n",
    "        'saldo_medio_var8_ult1',\n",
    "        'ind_var26_cte',\n",
    "        'num_var24',\n",
    "        'num_var12_0',\n",
    "        'num_var8',\n",
    "        'saldo_medio_var8_hace2',\n",
    "        'saldo_var26',\n",
    "        'num_var24_0',\n",
    "        'num_var12',\n",
    "        'saldo_var25',\n",
    "        'ind_var25_cte',\n",
    "        'num_sal_var16_ult1',\n",
    "        'saldo_medio_var12_ult1',\n",
    "        'saldo_medio_var13_corto_hace2',\n",
    "        'saldo_medio_var12_ult3',\n",
    "        'num_var1_0',\n",
    "        'saldo_medio_var13_corto_ult3',\n",
    "        'saldo_medio_var13_corto_ult1',\n",
    "        'ind_var40_0',\n",
    "        'saldo_var13_corto',\n",
    "        'saldo_medio_var12_hace2',\n",
    "        'num_var26',\n",
    "        'ind_var26',\n",
    "        'num_var25',\n",
    "        'saldo_var13',\n",
    "        'saldo_var12',\n",
    "        'num_var13_corto_0',\n",
    "        'saldo_var24',\n",
    "        'ind_var14_0',\n",
    "        'imp_sal_var16_ult1',\n",
    "        'ind_var25',\n",
    "        'ind_var30_0',\n",
    "        'num_var13_corto',\n",
    "        'num_var14_0',\n",
    "        'var21',\n",
    "        'ind_var7_recib_ult1',\n",
    "        'num_var13',\n",
    "        'saldo_medio_var8_hace3',\n",
    "        'num_var7_recib_ult1',\n",
    "        'num_var13_0',\n",
    "        'imp_var7_recib_ult1',\n",
    "        'imp_op_var40_efect_ult1',\n",
    "        'ind_var13_largo_0',\n",
    "        'imp_aport_var13_hace3',\n",
    "        'saldo_medio_var12_hace3',\n",
    "        'ind_var32_cte',\n",
    "        'ind_var19',\n",
    "        'imp_op_var40_efect_ult3',\n",
    "        'delta_num_aport_var13_1y3',\n",
    "        'saldo_var40',\n",
    "        'num_op_var40_efect_ult1',\n",
    "        'num_op_var40_efect_ult3',\n",
    "        'num_var1',\n",
    "        'num_var20_0',\n",
    "        'saldo_var1',\n",
    "        'ind_var31_0',\n",
    "        'num_aport_var13_hace3',\n",
    "        'ind_var13_largo',\n",
    "        'ind_var14',\n",
    "        'ind_var31',\n",
    "        'num_meses_var13_largo_ult3',\n",
    "        'imp_op_var40_comer_ult3',\n",
    "        'saldo_medio_var13_corto_hace3',\n",
    "        'imp_op_var40_ult1',\n",
    "        'num_op_var40_ult1',\n",
    "        'num_op_var40_comer_ult3',\n",
    "        'imp_op_var40_comer_ult1',\n",
    "        'num_var14',\n",
    "        'num_op_var40_ult3',\n",
    "        'num_var20',\n",
    "        'imp_aport_var13_ult1',\n",
    "        'num_op_var40_comer_ult1',\n",
    "        'num_var31_0',\n",
    "        'num_var13_largo',\n",
    "        'num_var32',\n",
    "        'saldo_var32',\n",
    "        'saldo_var14',\n",
    "        'ind_var17_0',\n",
    "        'num_var13_largo_0',\n",
    "        'ind_var32',\n",
    "        'imp_compra_var44_ult1',\n",
    "        'num_reemb_var17_ult1',\n",
    "        'num_var31',\n",
    "        'delta_num_compra_var44_1y3',\n",
    "        'num_op_var40_hace2',\n",
    "        'num_meses_var17_ult3',\n",
    "        'num_aport_var13_ult1',\n",
    "        'imp_reemb_var17_ult1',\n",
    "        'saldo_var13_largo',\n",
    "        'ind_var17',\n",
    "        'num_var17_0',\n",
    "        'saldo_var31',\n",
    "        'ind_var44_0',\n",
    "        'num_var17',\n",
    "        'num_aport_var17_ult1',\n",
    "        'num_var44',\n",
    "        'saldo_var44',\n",
    "        'num_meses_var44_ult3',\n",
    "        'saldo_var17',\n",
    "        'imp_reemb_var13_ult1',\n",
    "        'saldo_medio_var13_largo_ult3',\n",
    "        'saldo_medio_var44_ult3',\n",
    "        'saldo_medio_var13_largo_hace2',\n",
    "        'num_reemb_var13_ult1',\n",
    "        'imp_aport_var17_ult1',\n",
    "        'saldo_medio_var13_largo_ult1',\n",
    "        'ind_var33_0',\n",
    "        'delta_num_aport_var17_1y3',\n",
    "        'num_compra_var44_ult1',\n",
    "        'ind_var33',\n",
    "        'saldo_medio_var44_ult1',\n",
    "        'num_var33_0',\n",
    "        'delta_num_reemb_var17_1y3',\n",
    "        'num_meses_var33_ult3',\n",
    "        'saldo_medio_var44_hace2',\n",
    "        'delta_num_venta_var44_1y3',\n",
    "        'saldo_medio_var17_hace2',\n",
    "        'num_var33',\n",
    "        'saldo_medio_var33_hace2',\n",
    "        'imp_venta_var44_ult1',\n",
    "        'num_venta_var44_ult1',\n",
    "        'delta_num_aport_var33_1y3',\n",
    "        'saldo_medio_var13_largo_hace3',\n",
    "        'saldo_medio_var44_hace3',\n",
    "        'imp_compra_var44_hace3',\n",
    "        'saldo_var33',\n",
    "        'num_compra_var44_hace3',\n",
    "    ]\n",
    "    \n",
    "    # Extract the ids\n",
    "    ids = data['ID']\n",
    "    \n",
    "    # Extract the data\n",
    "    X = data.drop(['ID'] + cols_emtpy + cols_correlated,  axis=1)\n",
    "    if 'TARGET' in data.columns:\n",
    "        X.drop('TARGET', axis=1, inplace=True)\n",
    "\n",
    "    # Extract the labels\n",
    "    y = data['TARGET'] if 'TARGET' in data.columns else None\n",
    "    \n",
    "    return ids, X, y"
   ]
  },
  {
   "cell_type": "markdown",
   "metadata": {},
   "source": [
    "# Create Test Dataset"
   ]
  },
  {
   "cell_type": "code",
   "execution_count": 31,
   "metadata": {
    "collapsed": false
   },
   "outputs": [],
   "source": [
    "from sklearn.cross_validation import StratifiedShuffleSplit\n",
    "\n",
    "# Transform the training data\n",
    "Ids_train, X, y = transform(train)\n",
    "\n",
    "sss = StratifiedShuffleSplit(y, random_state=2, n_iter=30, test_size=0.15)\n",
    "\n",
    "for train_index, test_index in sss:\n",
    "    X_train, X_test = X.iloc[train_index], X.iloc[test_index]\n",
    "    y_train, y_test = y[train_index], y[test_index]"
   ]
  },
  {
   "cell_type": "markdown",
   "metadata": {},
   "source": [
    "# Create a XGB Classifier"
   ]
  },
  {
   "cell_type": "code",
   "execution_count": 40,
   "metadata": {
    "collapsed": false
   },
   "outputs": [
    {
     "data": {
      "text/plain": [
       "[<matplotlib.lines.Line2D at 0x7fcd030a3898>]"
      ]
     },
     "execution_count": 40,
     "metadata": {},
     "output_type": "execute_result"
    },
    {
     "data": {
      "image/png": "[encoded data removed]",
      "text/plain": [
       "<matplotlib.figure.Figure at 0x7fcd071029b0>"
      ]
     },
     "metadata": {},
     "output_type": "display_data"
    }
   ],
   "source": [
    "# Learning Rate\n",
    "learning_rate = lambda _steps: 0.01 / np.log1p(np.linspace(0.1, 0.5, _steps))\n",
    "steps = 100\n",
    "fig = plt.figure()\n",
    "plt.plot(np.linspace(0, 1, steps), learning_rate(steps))"
   ]
  },
  {
   "cell_type": "code",
   "execution_count": 45,
   "metadata": {
    "collapsed": false
   },
   "outputs": [],
   "source": [
    "from sklearn.pipeline import Pipeline\n",
    "import xgboost as xgb\n",
    "import numpy as np\n",
    "\n",
    "params = {\n",
    "    'max_depth': 5,\n",
    "    'n_estimators': 100,\n",
    "    'learning_rate': 0.05,\n",
    "    'gamma': 0.25,\n",
    "    'subsample': 0.9,\n",
    "    'colsample_bytree': 0.9,\n",
    "    'seed': 42,\n",
    "}\n",
    "\n",
    "fit_params = {\n",
    "    'early_stopping_rounds': 20,\n",
    "    'eval_metric': 'auc',\n",
    "    'eval_set': [(X_test.values, y_test.values)],\n",
    "    'learning_rates': lambda i, n: learning_rate(n)[i],\n",
    "}\n",
    "\n",
    "# eval_set: set that is used for watching the training performance\n",
    "\n",
    "# learing_rates: sets the eta parameter for each boost round\n",
    "# https://github.com/dmlc/xgboost/blob/master/doc/parameter.md#parameters-for-tree-booster\n",
    "# lambda i, n: np.linspace(0.4, 0.2, n)[i] # Linear learning rate decay\n",
    "\n",
    "clf = xgb.XGBClassifier(**params)"
   ]
  },
  {
   "cell_type": "markdown",
   "metadata": {},
   "source": [
    "# Cross Validate XGB"
   ]
  },
  {
   "cell_type": "code",
   "execution_count": 46,
   "metadata": {
    "collapsed": false
   },
   "outputs": [
    {
     "name": "stdout",
     "output_type": "stream",
     "text": [
      "Cross validation test-auc-mean score 0.83520200 (+- 0.00755968)\n",
      "Cross validation train-auc-mean score 0.87256700 (+- 0.00273206)\n"
     ]
    }
   ],
   "source": [
    "from sklearn.metrics import make_scorer\n",
    "from sklearn.metrics import roc_auc_score\n",
    "\n",
    "nrounds = params['n_estimators']\n",
    "folds = skutils.folds(y_train, n_folds=4, stratified=True, random_state=params['seed'])\n",
    "\n",
    "# Needs latest XGBoost from chaosmail\n",
    "# https://github.com/chaosmail/xgboost\n",
    "# https://github.com/dmlc/xgboost/blob/master/doc/build.md\n",
    "scores = xgb.cv(params, xgb.DMatrix(X_train, y_train), nrounds, metrics=['auc'], maximize=True, \n",
    "                early_stopping_rounds=fit_params['early_stopping_rounds'], folds=folds)\n",
    "\n",
    "print(\"Cross validation test-auc-mean score %.8f (+- %.8f)\" \n",
    "      % (scores['test-auc-mean'].ix[len(scores) - 1], scores['test-auc-std'].ix[len(scores) - 1]))\n",
    "\n",
    "print(\"Cross validation train-auc-mean score %.8f (+- %.8f)\"\n",
    "      % (scores['train-auc-mean'].ix[len(scores) - 1], scores['train-auc-std'].ix[len(scores) - 1]))"
   ]
  },
  {
   "cell_type": "code",
   "execution_count": 47,
   "metadata": {
    "collapsed": false
   },
   "outputs": [
    {
     "data": {
      "text/plain": [
       "<matplotlib.axes._subplots.AxesSubplot at 0x7fcd030c0080>"
      ]
     },
     "execution_count": 47,
     "metadata": {},
     "output_type": "execute_result"
    },
    {
     "name": "stderr",
     "output_type": "stream",
     "text": [
      "/home/ckoerner/.local/lib/python3.4/site-packages/matplotlib/collections.py:590: FutureWarning: elementwise comparison failed; returning scalar instead, but in the future will perform elementwise comparison\n",
      "  if self._edgecolors == str('face'):\n"
     ]
    },
    {
     "data": {
      "image/png": "[encoded data removed]",
      "text/plain": [
       "<matplotlib.figure.Figure at 0x7fcd02fe0550>"
      ]
     },
     "metadata": {},
     "output_type": "display_data"
    }
   ],
   "source": [
    "import matplotlib.pyplot as plt\n",
    "import matplotlib.cm as cm\n",
    "\n",
    "fig, ax = plt.subplots(figsize=(15, 5), dpi=120)\n",
    "scores[['test-auc-mean', 'test-auc-std']].plot(yerr='test-auc-std', ax=ax)\n",
    "scores[['train-auc-mean', 'train-auc-std']].plot(yerr='train-auc-std', ax=ax)"
   ]
  },
  {
   "cell_type": "markdown",
   "metadata": {},
   "source": [
    "# Compute Private Score"
   ]
  },
  {
   "cell_type": "code",
   "execution_count": 48,
   "metadata": {
    "collapsed": false
   },
   "outputs": [
    {
     "name": "stdout",
     "output_type": "stream",
     "text": [
      "Private Score 0.82607050\n"
     ]
    }
   ],
   "source": [
    "from sklearn.metrics import roc_auc_score\n",
    "\n",
    "clf.fit(X_train.values, y_train.values, **fit_params)\n",
    "\n",
    "score = roc_auc_score(y_test.values, clf.predict_proba(X_test.values, ntree_limit=clf.best_iteration)[:,1])\n",
    "\n",
    "print(\"Private Score %.8f\" % score)"
   ]
  },
  {
   "cell_type": "markdown",
   "metadata": {},
   "source": [
    "# Make Submission"
   ]
  },
  {
   "cell_type": "code",
   "execution_count": 49,
   "metadata": {
    "collapsed": false,
    "scrolled": true
   },
   "outputs": [],
   "source": [
    "Ids_test_, X_test_, y_test_ = transform(test)\n",
    "\n",
    "clf.fit(X.values, y.values, **fit_params)\n",
    "\n",
    "y_pred = clf.predict_proba(X_test_.values, ntree_limit=clf.best_iteration)\n",
    "\n",
    "submission = pd.DataFrame({\"ID\":Ids_test_, \"TARGET\":y_pred[:,1]})\n",
    "submission.to_csv(\"submission_%s.csv\" % utils.timestamp(), index=False)\n",
    "\n",
    "# Public Score: 0.837660"
   ]
  }
 ],
 "metadata": {
  "kernelspec": {
   "display_name": "Python 3",
   "language": "python",
   "name": "python3"
  },
  "language_info": {
   "codemirror_mode": {
    "name": "ipython",
    "version": 3
   },
   "file_extension": ".py",
   "mimetype": "text/x-python",
   "name": "python",
   "nbconvert_exporter": "python",
   "pygments_lexer": "ipython3",
   "version": "3.4.3"
  }
 },
 "nbformat": 4,
 "nbformat_minor": 0
}
