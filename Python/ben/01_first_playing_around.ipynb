{
 "cells": [
  {
   "cell_type": "code",
   "execution_count": 2,
   "metadata": {
    "collapsed": false
   },
   "outputs": [],
   "source": [
    "import matplotlib.pyplot as plt\n",
    "#import seaborn\n",
    "#seaborn.set()  # this makes plots pretty. but it also makes histograms confusing\n",
    "%matplotlib inline\n",
    "\n",
    "import numpy as np\n",
    "import pandas as pd\n",
    "\n",
    "from sklearn.ensemble import RandomForestClassifier, RandomForestRegressor\n",
    "from sklearn import cross_validation as cv\n",
    "from sklearn.manifold import TSNE\n",
    "from sklearn.decomposition import TruncatedSVD\n",
    "\n",
    "from skll import metrics\n",
    "from sklearn.metrics import roc_auc_score, make_scorer\n",
    "\n",
    "import data_utils"
   ]
  },
  {
   "cell_type": "code",
   "execution_count": 4,
   "metadata": {
    "collapsed": false
   },
   "outputs": [],
   "source": [
    "train_init = pd.read_csv('../../data/train.csv')\n",
    "test_init = pd.read_csv('../../data/test.csv')"
   ]
  },
  {
   "cell_type": "code",
   "execution_count": 5,
   "metadata": {
    "collapsed": false
   },
   "outputs": [],
   "source": [
    "constant_cols = (train_init.columns[train_init.max() == train_init.min()])"
   ]
  },
  {
   "cell_type": "code",
   "execution_count": 4,
   "metadata": {
    "collapsed": false
   },
   "outputs": [],
   "source": [
    "train = train_init.drop(constant_cols, axis=1).drop(['ID'], axis=1)\n",
    "test = test_init.drop(constant_cols, axis=1)"
   ]
  },
  {
   "cell_type": "code",
   "execution_count": 6,
   "metadata": {
    "collapsed": false
   },
   "outputs": [],
   "source": [
    "train_neg = train.loc[train.TARGET==0].drop(['TARGET'], axis=1)\n",
    "train_pos = train.loc[train.TARGET==1].drop(['TARGET'], axis=1)"
   ]
  },
  {
   "cell_type": "code",
   "execution_count": 7,
   "metadata": {
    "collapsed": false
   },
   "outputs": [
    {
     "data": {
      "text/plain": [
       "<matplotlib.legend.Legend at 0x10c4e35d0>"
      ]
     },
     "execution_count": 7,
     "metadata": {},
     "output_type": "execute_result"
    },
    {
     "data": {
      "image/png": "[encoded data removed]",
      "text/plain": [
       "<matplotlib.figure.Figure at 0x105ef3cd0>"
      ]
     },
     "metadata": {},
     "output_type": "display_data"
    }
   ],
   "source": [
    "plt.figure(figsize=(20,10))\n",
    "var_x = 'num_med_var22_ult3'\n",
    "var_y = 'num_meses_var5_ult3'\n",
    "plt.scatter(x=train_neg[var_x], y=train_neg[var_y], alpha=0.2, label=\"neg\", c='b')\n",
    "plt.scatter(x=train_pos[var_x], y=train_pos[var_y], alpha=0.2, label=\"pos\", c='r')\n",
    "plt.xlabel(var_x)\n",
    "plt.ylabel(var_y)\n",
    "plt.legend()"
   ]
  },
  {
   "cell_type": "code",
   "execution_count": 11,
   "metadata": {
    "collapsed": false
   },
   "outputs": [
    {
     "name": "stdout",
     "output_type": "stream",
     "text": [
      "Found 55 features where neg and pos examples have about the same mean.\n"
     ]
    }
   ],
   "source": [
    "# Might be a good start to find features that have no difference between TARGET=0 and TARGET=1\n",
    "epsilon = 1.001\n",
    "useless_cols = []\n",
    "for c in train_pos.columns:\n",
    "    ratio = (np.abs(train_neg[c].mean()) + 1) / (np.abs(train_pos[c].mean()) + 1)\n",
    "    if ratio < epsilon and ratio > (1/epsilon):\n",
    "        useless_cols.append(c)\n",
    "print(\"Found %i features where neg and pos examples have about the same mean.\" % len(useless_cols))"
   ]
  },
  {
   "cell_type": "code",
   "execution_count": null,
   "metadata": {
    "collapsed": false
   },
   "outputs": [],
   "source": [
    "X = train.drop(['TARGET'], axis=1).drop(useless_cols, axis=1).values\n",
    "y = train.TARGET.values\n",
    "\n",
    "roc_scorer = make_scorer(roc_auc_score)\n",
    "rfc = RandomForestRegressor(n_estimators=30, n_jobs=-1)\n",
    "folds = cv.StratifiedKFold(y, n_folds=5, shuffle=True, random_state=42)\n",
    "scores = cv.cross_val_score(rfc, X, y, cv=folds, scoring=roc_scorer, n_jobs=-1)\n",
    "print(scores)\n",
    "print(scores.mean(), scores.std())"
   ]
  },
  {
   "cell_type": "code",
   "execution_count": null,
   "metadata": {
    "collapsed": true
   },
   "outputs": [],
   "source": [
    "rfc.fit(X, y)"
   ]
  },
  {
   "cell_type": "code",
   "execution_count": null,
   "metadata": {
    "collapsed": true
   },
   "outputs": [],
   "source": [
    "imp = pd.Series(rfc.feature_importances_)\n",
    "ft = pd.Series(train.columns)\n",
    "ft = pd.concat([imp, ft], axis=1)\n",
    "ft.columns = ['Importance', 'Name']\n",
    "ft.sort_values(by='Importance', ascending=False)"
   ]
  },
  {
   "cell_type": "raw",
   "metadata": {},
   "source": [
    "CV: [ 0.78590266  0.79715541  0.77020283  0.76911956  0.78087809]\n",
    "(0.78065170985918486, 0.010413121166637002)\n",
    "LB: 0.769189"
   ]
  },
  {
   "cell_type": "code",
   "execution_count": null,
   "metadata": {
    "collapsed": true
   },
   "outputs": [],
   "source": [
    "rfc.fit(X, y)\n",
    "y_test = rfc.predict(test.drop(['ID'], axis=1))\n",
    "data_utils.write_submission(y_test, test)"
   ]
  },
  {
   "cell_type": "code",
   "execution_count": null,
   "metadata": {
    "collapsed": true
   },
   "outputs": [],
   "source": [
    "\n",
    "\n",
    "\n",
    "\n",
    "\n",
    "\n",
    "\n",
    "\n",
    "\n",
    "\n",
    "\n",
    "\n",
    "\n",
    "\n",
    "\n",
    "\n",
    "\n",
    "\n",
    "\n",
    "\n",
    "\n",
    "\n",
    "\n",
    "\n",
    "\n",
    "\n",
    "\n"
   ]
  }
 ],
 "metadata": {
  "kernelspec": {
   "display_name": "Python 2",
   "language": "python",
   "name": "python2"
  },
  "language_info": {
   "codemirror_mode": {
    "name": "ipython",
    "version": 2
   },
   "file_extension": ".py",
   "mimetype": "text/x-python",
   "name": "python",
   "nbconvert_exporter": "python",
   "pygments_lexer": "ipython2",
   "version": "2.7.10"
  }
 },
 "nbformat": 4,
 "nbformat_minor": 0
}
